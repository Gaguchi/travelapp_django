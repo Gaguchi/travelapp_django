{
 "cells": [
  {
   "cell_type": "markdown",
   "metadata": {},
   "source": [
    "# Calculating Distance with Haversine Formula\n",
    "\n",
    "In this Python notebook, we will calculate the distance between the latitude and longitude data from [`mobile_data.db`](command:_github.copilot.openRelativePath?%5B%22mobile_data.db%22%5D \"mobile_data.db\") and three specific points using the Haversine formula.\n",
    "\n",
    "## Steps\n",
    "\n",
    "1. **Import Necessary Libraries**: We will need the `sqlite3` and `math` libraries. `sqlite3` is used to interact with a SQLite database, and `math` is used for mathematical operations.\n",
    "\n"
   ]
  },
  {
   "cell_type": "code",
   "execution_count": 25,
   "metadata": {},
   "outputs": [],
   "source": [
    "import sqlite3\n",
    "import math"
   ]
  },
  {
   "cell_type": "markdown",
   "metadata": {},
   "source": [
    "\n",
    "\n",
    "2. **Define Haversine Function**: We will define a function to calculate the distance between two points using the Haversine formula.\n",
    "\n"
   ]
  },
  {
   "cell_type": "code",
   "execution_count": 26,
   "metadata": {},
   "outputs": [],
   "source": [
    "# This function calculates the distance between two points on the Earth's surface using the Haversine formula.\n",
    "# The Haversine formula is used to calculate the great-circle distance between two points given their latitude and longitude.\n",
    "def haversine(lat1, lon1, lat2, lon2):\n",
    "    R = 6371  # Radius of the earth in km\n",
    "\n",
    "    # Convert latitude and longitude from degrees to radians\n",
    "    dlat = math.radians(lat2 - lat1)\n",
    "    dlon = math.radians(lon2 - lon1)\n",
    "\n",
    "    # Apply the Haversine formula\n",
    "    a = math.sin(dlat/2) * math.sin(dlat/2) + math.cos(math.radians(lat1)) * math.cos(math.radians(lat2)) * math.sin(dlon/2) * math.sin(dlon/2)\n",
    "    c = 2 * math.atan2(math.sqrt(a), math.sqrt(1-a))\n",
    "    distance = R * c\n",
    "\n",
    "    # Return the calculated distance\n",
    "    return distance"
   ]
  },
  {
   "cell_type": "markdown",
   "metadata": {},
   "source": [
    "\n",
    "\n",
    "3. **Connect to SQLite Database**: We will connect to the SQLite database and fetch the latitude and longitude data.\n",
    "\n"
   ]
  },
  {
   "cell_type": "code",
   "execution_count": 27,
   "metadata": {},
   "outputs": [],
   "source": [
    "conn = sqlite3.connect('mobile_data.db')\n",
    "c = conn.cursor()\n",
    "c.execute('SELECT device_id, home_postcode, latitude, longitude FROM mobile_data')\n",
    "data = c.fetchall()"
   ]
  },
  {
   "cell_type": "markdown",
   "metadata": {},
   "source": [
    "4. **Create a New SQLite Database**: We will create a new SQLite database and a table to store our data."
   ]
  },
  {
   "cell_type": "code",
   "execution_count": 28,
   "metadata": {},
   "outputs": [
    {
     "data": {
      "text/plain": [
       "<sqlite3.Cursor at 0x29e2c5a6f40>"
      ]
     },
     "execution_count": 28,
     "metadata": {},
     "output_type": "execute_result"
    }
   ],
   "source": [
    "conn_new = sqlite3.connect('mobile_data_with_distances.db')\n",
    "c_new = conn_new.cursor()\n",
    "c_new.execute('''\n",
    "    CREATE TABLE IF NOT EXISTS mobile_data_with_distances\n",
    "    (device_id text, home_postcode text, latitude real, longitude real, distance_to_point1 real, distance_to_point2 real, distance_to_point3 real)\n",
    "''')"
   ]
  },
  {
   "cell_type": "markdown",
   "metadata": {},
   "source": [
    "\n",
    "\n",
    "5. **Calculate Distances**: We will calculate the distances between each point in the database and the three specific points.\n",
    "\n"
   ]
  },
  {
   "cell_type": "code",
   "execution_count": 29,
   "metadata": {},
   "outputs": [],
   "source": [
    "points = [(51.0617, -1.3083), (51.0966219,-0.7878262), (50.7585, 0.1588)]  # The three points\n",
    "\n",
    "for row in data:\n",
    "    device_id, home_postcode, lat, lon = row\n",
    "    distances = [haversine(lat, lon, point[0], point[1]) for point in points]\n",
    "    c_new.execute('''\n",
    "        INSERT INTO mobile_data_with_distances VALUES (?, ?, ?, ?, ?, ?, ?)\n",
    "    ''', (device_id, home_postcode, lat, lon, *distances))\n",
    "conn_new.commit()"
   ]
  },
  {
   "cell_type": "markdown",
   "metadata": {},
   "source": [
    "\n",
    "\n",
    "6. **Close the Database Connection**: Finally, we will close our connection to the database.\n",
    "\n"
   ]
  },
  {
   "cell_type": "code",
   "execution_count": 30,
   "metadata": {},
   "outputs": [],
   "source": [
    "conn.close()\n",
    "conn_new.close()"
   ]
  },
  {
   "cell_type": "markdown",
   "metadata": {},
   "source": [
    "\n",
    "\n",
    "This will print the distance from each point in the [`mobile_data.db`](command:_github.copilot.openRelativePath?%5B%22mobile_data.db%22%5D \"mobile_data.db\") database to the three specific points using the Haversine formula."
   ]
  }
 ],
 "metadata": {
  "kernelspec": {
   "display_name": "venv",
   "language": "python",
   "name": "python3"
  },
  "language_info": {
   "codemirror_mode": {
    "name": "ipython",
    "version": 3
   },
   "file_extension": ".py",
   "mimetype": "text/x-python",
   "name": "python",
   "nbconvert_exporter": "python",
   "pygments_lexer": "ipython3",
   "version": "3.11.5"
  }
 },
 "nbformat": 4,
 "nbformat_minor": 2
}
