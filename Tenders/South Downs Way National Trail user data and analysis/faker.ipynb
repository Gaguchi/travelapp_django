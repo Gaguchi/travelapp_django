{
 "cells": [
  {
   "cell_type": "markdown",
   "metadata": {},
   "source": [
    "# Generating a SQLite Database with Faker\n",
    "\n",
    "For this tender, we are going to generate a SQLite database file that contains rows for mobile device IDs, home postcodes, and the latitude and longitude of those postcodes. We will be using the Faker Python library to generate this data.\n",
    "\n",
    "## Steps\n",
    "\n",
    "1. **Import Necessary Libraries**: We will need the `sqlite3` and `Faker` libraries. `sqlite3` is used to interact with a SQLite database, and `Faker` is used to generate fake data.\n",
    "\n"
   ]
  },
  {
   "cell_type": "code",
   "execution_count": 1,
   "metadata": {},
   "outputs": [],
   "source": [
    "import sqlite3\n",
    "from faker import Faker"
   ]
  },
  {
   "cell_type": "markdown",
   "metadata": {},
   "source": [
    "\n",
    "\n",
    "2. **Create a Faker Object**: We will create a Faker object that we can use to generate our fake data.\n",
    "\n"
   ]
  },
  {
   "cell_type": "code",
   "execution_count": 2,
   "metadata": {},
   "outputs": [],
   "source": [
    "fake = Faker('en_GB')"
   ]
  },
  {
   "cell_type": "markdown",
   "metadata": {},
   "source": [
    "\n",
    "\n",
    "3. **Create a SQLite Database**: We will create a SQLite database and a table to store our data.\n",
    "\n"
   ]
  },
  {
   "cell_type": "code",
   "execution_count": 3,
   "metadata": {},
   "outputs": [],
   "source": [
    "conn = sqlite3.connect('mobile_data.db')\n",
    "c = conn.cursor()\n",
    "c.execute('''\n",
    "    CREATE TABLE mobile_data\n",
    "    (device_id text, home_postcode text, latitude real, longitude real)\n",
    "''')\n",
    "conn.commit()"
   ]
  },
  {
   "cell_type": "markdown",
   "metadata": {},
   "source": [
    "\n",
    "\n",
    "4. **Generate and Insert Data**: We will generate our fake data and insert it into our database.\n",
    "\n"
   ]
  },
  {
   "cell_type": "code",
   "execution_count": 5,
   "metadata": {},
   "outputs": [],
   "source": [
    "for _ in range(1000):  # Generate 1000 rows of data\n",
    "    device_id = fake.unique.random_number(digits=5)\n",
    "    home_postcode = fake.postcode()\n",
    "    latitude, longitude = fake.latlng()\n",
    "    latitude = float(latitude)\n",
    "    longitude = float(longitude)\n",
    "    c.execute('''\n",
    "        INSERT INTO mobile_data VALUES (?, ?, ?, ?)\n",
    "    ''', (device_id, home_postcode, latitude, longitude))\n",
    "conn.commit()"
   ]
  },
  {
   "cell_type": "markdown",
   "metadata": {},
   "source": [
    "\n",
    "\n",
    "5. **Close the Database Connection**: Finally, we will close our connection to the database.\n",
    "\n"
   ]
  },
  {
   "cell_type": "code",
   "execution_count": 6,
   "metadata": {},
   "outputs": [],
   "source": [
    "conn.close()"
   ]
  },
  {
   "cell_type": "markdown",
   "metadata": {},
   "source": [
    "\n",
    "\n",
    "This will result in a SQLite database file named `mobile_data.db` that contains 1000 rows of fake mobile device data."
   ]
  },
  {
   "cell_type": "code",
   "execution_count": null,
   "metadata": {},
   "outputs": [],
   "source": []
  }
 ],
 "metadata": {
  "kernelspec": {
   "display_name": "venv",
   "language": "python",
   "name": "python3"
  },
  "language_info": {
   "codemirror_mode": {
    "name": "ipython",
    "version": 3
   },
   "file_extension": ".py",
   "mimetype": "text/x-python",
   "name": "python",
   "nbconvert_exporter": "python",
   "pygments_lexer": "ipython3",
   "version": "3.11.5"
  }
 },
 "nbformat": 4,
 "nbformat_minor": 2
}
